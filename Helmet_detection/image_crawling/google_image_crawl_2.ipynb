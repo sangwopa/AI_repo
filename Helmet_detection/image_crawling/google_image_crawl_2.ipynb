{
 "cells": [
  {
   "cell_type": "code",
   "execution_count": 1,
   "id": "4476b411",
   "metadata": {},
   "outputs": [],
   "source": [
    "from selenium import webdriver \n",
    "from selenium.webdriver.common.keys import Keys\n",
    "import time\n",
    "import os\n",
    "import urllib.request"
   ]
  },
  {
   "cell_type": "code",
   "execution_count": 2,
   "id": "0a30e3ed",
   "metadata": {},
   "outputs": [],
   "source": [
    "def createFolder(directory):\n",
    "    try:\n",
    "        if not os.path.exists(directory):\n",
    "            os.makedirs(directory)\n",
    "    except OSError:\n",
    "        print ('Error: Creating directory. ' +  directory)"
   ]
  },
  {
   "cell_type": "code",
   "execution_count": 2,
   "id": "28fb9857",
   "metadata": {},
   "outputs": [],
   "source": [
    "#keyword='construction site workers'\n",
    "#createFolder('./_img')\n",
    "\n",
    "chromedriver = 'C:/py_data/Mask Synthetic/chromedriver.exe'\n",
    "driver = webdriver.Chrome(chromedriver)\n",
    "driver.implicitly_wait(3)"
   ]
  },
  {
   "cell_type": "code",
   "execution_count": 3,
   "id": "5a2cfa54",
   "metadata": {},
   "outputs": [
    {
     "name": "stdout",
     "output_type": "stream",
     "text": [
      "construction site workers 검색\n"
     ]
    }
   ],
   "source": [
    "print(keyword, '검색')\n",
    "driver.get('https://www.google.co.kr/imghp?hl=ko')\n",
    "\n",
    "Keyword=driver.find_element_by_xpath('//*[@id=\"sbtc\"]/div/div[2]/input')\n",
    "Keyword.send_keys(keyword)\n",
    "\n",
    "driver.find_element_by_xpath('//*[@id=\"sbtc\"]/button').click()"
   ]
  },
  {
   "cell_type": "code",
   "execution_count": 3,
   "id": "71c0bc15",
   "metadata": {},
   "outputs": [],
   "source": [
    "driver.get('https://www.google.co.kr/search?sa=G&hl=ko&tbs=simg:CAESpwIJC-wjF6_1NupgamwILEKjU2AQaAghDDAsQsIynCBo6CjgIBBITkyLmD-UxgjTLEJItLtwm9BecIxobD_1cREpFWAWTkMFrM0JG_1EGaVUlogA1urI0aGIAUwBAwLEI6u_1ggaCgoICAESBJn1tZkMCxCd7cEJGrABChwKCHdvcmt3ZWFy2qWI9gMMCgovbS8wMjZsYzd3CiUKEmJsdWUtY29sbGFyIHdvcmtlctqliPYDCwoJL20vMDFrcTNmCiYKE2NvbnN0cnVjdGlvbiB3b3JrZXLapYj2AwsKCS9tLzA0N3g1NwooChVjb25zdHJ1Y3Rpb24gZW5naW5lZXLapYj2AwsKCS9tLzAxYnM5ZgoXCgRoYXJk2qWI9gMLCgkvYS9iNXk1ZzIM&sxsrf=AOaemvIU6OM3kaXkmcZaPNs963xp_VOGcw:1634951031475&q=workwear&tbm=isch&ved=2ahUKEwi23NKbq9_zAhXUc94KHZP6Di8QjJkEegQIAhAC&biw=1604&bih=760&dpr=1.2')"
   ]
  },
  {
   "cell_type": "code",
   "execution_count": 4,
   "id": "ca5cbc02",
   "metadata": {},
   "outputs": [],
   "source": [
    "#print(keyword+' 스크롤 중 .............')\n",
    "elem =  driver.find_element_by_tag_name(\"body\")\n",
    "for i in range(80):\n",
    "    elem.send_keys(Keys.PAGE_DOWN)\n",
    "    time.sleep(0.2)\n",
    "    \n",
    "try:\n",
    "    driver.find_element_by_xpath('//*[@id=\"islmp\"]/div/div/div/div[1]/div[4]/div[2]/input').click()\n",
    "    for i in range(80):\n",
    "        elem.send_keys(Keys.PAGE_DOWN)https://www.google.co.kr/search?sa=G&hl=ko&tbs=simg:CAESpwIJC-wjF6_1NupgamwILEKjU2AQaAghDDAsQsIynCBo6CjgIBBITkyLmD-UxgjTLEJItLtwm9BecIxobD_1cREpFWAWTkMFrM0JG_1EGaVUlogA1urI0aGIAUwBAwLEI6u_1ggaCgoICAESBJn1tZkMCxCd7cEJGrABChwKCHdvcmt3ZWFy2qWI9gMMCgovbS8wMjZsYzd3CiUKEmJsdWUtY29sbGFyIHdvcmtlctqliPYDCwoJL20vMDFrcTNmCiYKE2NvbnN0cnVjdGlvbiB3b3JrZXLapYj2AwsKCS9tLzA0N3g1NwooChVjb25zdHJ1Y3Rpb24gZW5naW5lZXLapYj2AwsKCS9tLzAxYnM5ZgoXCgRoYXJk2qWI9gMLCgkvYS9iNXk1ZzIM&sxsrf=AOaemvIU6OM3kaXkmcZaPNs963xp_VOGcw:1634951031475&q=workwear&tbm=isch&ved=2ahUKEwi23NKbq9_zAhXUc94KHZP6Di8QjJkEegQIAhAC&biw=1604&bih=760&dpr=1.2\n",
    "        time.sleep(0.2)\n",
    "except:\n",
    "    pass"
   ]
  },
  {
   "cell_type": "code",
   "execution_count": 5,
   "id": "4b5704e4",
   "metadata": {},
   "outputs": [
    {
     "name": "stdout",
     "output_type": "stream",
     "text": [
      " 찾은 이미지 개수: 399\n"
     ]
    }
   ],
   "source": [
    "links=[]\n",
    "images = driver.find_elements_by_css_selector(\"img.rg_i.Q4LuWd\")\n",
    "for image in images:\n",
    "    if image.get_attribute('src')!=None:\n",
    "        links.append(image.get_attribute('src'))\n",
    "\n",
    "print(' 찾은 이미지 개수:',len(links))\n",
    "time.sleep(2)"
   ]
  },
  {
   "cell_type": "code",
   "execution_count": 6,
   "id": "6ab34e8c",
   "metadata": {},
   "outputs": [],
   "source": [
    "p = 400\n",
    "for i in range(1,len(images)):\n",
    "    try:\n",
    "        driver.find_element_by_xpath('//*[@id=\"islrg\"]/div[1]/div['+str(i)+']/a[1]/div[1]/img').click() \n",
    "        time.sleep(0.2)\n",
    "        imgURL = driver.find_element_by_xpath('//*[@id=\"Sva75c\"]/div/div/div[3]/div[2]/c-wiz/div/div[1]/div[1]/div[2]/div/a/img').get_attribute(\"src\")# 찾은 이미지의 FullxPath를 복사 붙여넣어서 다운로드\n",
    "        urllib.request.urlretrieve(imgURL, 'C:/py_data/Mask Synthetic/_img3/'+str(p)+\".jpg\")\n",
    "        #print(keyword+' 사진 다운 중..... number :'+str(i)+'/'+str(len(images)))\n",
    "        p += 1\n",
    "    except: \n",
    "        continue\n",
    "        print(i,'error')\n",
    "driver.close()"
   ]
  },
  {
   "cell_type": "code",
   "execution_count": 8,
   "id": "bf15a23a",
   "metadata": {
    "scrolled": true
   },
   "outputs": [
    {
     "name": "stdout",
     "output_type": "stream",
     "text": [
      "wearing safety helmet 링크 수집 중..... number :3/50\n",
      "wearing safety helmet 링크 수집 중..... number :4/50\n",
      "wearing safety helmet 링크 수집 중..... number :7/50\n",
      "wearing safety helmet 링크 수집 중..... number :10/50\n",
      "wearing safety helmet 링크 수집 중..... number :13/50\n",
      "wearing safety helmet 링크 수집 중..... number :17/50\n",
      "wearing safety helmet 링크 수집 중..... number :20/50\n",
      "wearing safety helmet 링크 수집 중..... number :22/50\n",
      "wearing safety helmet 링크 수집 중..... number :23/50\n",
      "wearing safety helmet 링크 수집 중..... number :24/50\n",
      "wearing safety helmet 링크 수집 중..... number :25/50\n",
      "wearing safety helmet 링크 수집 중..... number :26/50\n",
      "wearing safety helmet 링크 수집 중..... number :27/50\n",
      "wearing safety helmet 링크 수집 중..... number :28/50\n",
      "wearing safety helmet 링크 수집 중..... number :29/50\n",
      "wearing safety helmet 링크 수집 중..... number :30/50\n",
      "wearing safety helmet 링크 수집 중..... number :31/50\n",
      "wearing safety helmet 링크 수집 중..... number :32/50\n",
      "wearing safety helmet 링크 수집 중..... number :33/50\n",
      "wearing safety helmet 링크 수집 중..... number :34/50\n",
      "wearing safety helmet 링크 수집 중..... number :35/50\n",
      "wearing safety helmet 링크 수집 중..... number :36/50\n",
      "wearing safety helmet 링크 수집 중..... number :37/50\n",
      "wearing safety helmet 링크 수집 중..... number :38/50\n",
      "wearing safety helmet 링크 수집 중..... number :39/50\n",
      "wearing safety helmet 링크 수집 중..... number :40/50\n",
      "wearing safety helmet 링크 수집 중..... number :41/50\n",
      "wearing safety helmet 링크 수집 중..... number :42/50\n",
      "wearing safety helmet 링크 수집 중..... number :43/50\n",
      "wearing safety helmet 링크 수집 중..... number :44/50\n",
      "wearing safety helmet 링크 수집 중..... number :45/50\n",
      "wearing safety helmet 링크 수집 중..... number :46/50\n",
      "wearing safety helmet 링크 수집 중..... number :47/50\n",
      "wearing safety helmet 링크 수집 중..... number :48/50\n",
      "wearing safety helmet 링크 수집 중..... number :49/50\n"
     ]
    }
   ],
   "source": [
    "# links=[]\n",
    "# for i in range(1,len(images)): \n",
    "#     try: \n",
    "#         driver.find_element_by_xpath('//*[@id=\"islrg\"]/div[1]/div['+str(i)+']/a[1]/div[1]/img').click() \n",
    "#         links.append(driver.find_element_by_xpath('//*[@id=\"Sva75c\"]/div/div/div[3]/div[2]/c-wiz/div/div[1]/div[1]/div[2]/div/a/img').get_attribute('src')) \n",
    "#         driver.find_element_by_xpath('//*[@id=\"Sva75c\"]/div/div/div[2]/a').click() \n",
    "#         print(keyword+' 링크 수집 중..... number :'+str(i)+'/'+str(len(images))) \n",
    "#     except: \n",
    "#         continue\n",
    "#         print(i,'error')\n",
    "\n",
    "# forbidden=0 \n",
    "# for k,i in enumerate(links): \n",
    "#     try: \n",
    "#         url = i \n",
    "#         start = time.time() \n",
    "#         urllib.request.urlretrieve(url, \"/\"+keyword+\"_high resolution/\"+keyword+\"_\"+str(k-forbidden)+\".jpg\") \n",
    "#         print(str(k+1)+'/'+str(len(links))+' '+keyword+' 다운로드 중....... Download time : '+str(time.time() - start)[:5]+' 초') \n",
    "#     except: \n",
    "#         forbidden+=1 \n",
    "#         continue \n",
    "        \n",
    "#     print(keyword+' ---다운로드 완료---') \n",
    "# driver.close()"
   ]
  },
  {
   "cell_type": "code",
   "execution_count": null,
   "id": "7fd513b9",
   "metadata": {},
   "outputs": [],
   "source": []
  },
  {
   "cell_type": "code",
   "execution_count": 18,
   "id": "e5e0df71",
   "metadata": {},
   "outputs": [],
   "source": [
    "from selenium import webdriver \n",
    "from selenium.webdriver.common.keys import Keys\n",
    "import time\n",
    "import os\n",
    "import urllib.request"
   ]
  },
  {
   "cell_type": "code",
   "execution_count": 21,
   "id": "d31a8b6d",
   "metadata": {},
   "outputs": [
    {
     "name": "stdout",
     "output_type": "stream",
     "text": [
      " 찾은 이미지 개수: 400\n"
     ]
    }
   ],
   "source": [
    "#keyword='construction site workers'\n",
    "#createFolder('./_img')\n",
    "\n",
    "chromedriver = 'C:/py_data/Mask Synthetic/chromedriver.exe'\n",
    "driver = webdriver.Chrome(chromedriver)\n",
    "driver.implicitly_wait(3)\n",
    "\n",
    "driver.get('https://www.google.co.kr/search?sa=G&hl=ko&tbs=simg:CAESowIJC-GaxxxgC28alwILEKjU2AQaAghCDAsQsIynCBo7CjkIBBIU1jCMK8IipCTmD5Mi9BPqPO4anCMaG6mLOeocKpgS0fKDOf_1LrbHczo694J_1z6xTRcyAFMAQMCxCOrv4IGgoKCAgBEgSpQJxRDAsQne3BCRqrAQocCgh3b3Jrd2VhctqliPYDDAoKL20vMDI2bGM3dwolChJibHVlLWNvbGxhciB3b3JrZXLapYj2AwsKCS9tLzAxa3EzZgocCglmb3IgYWR1bHTapYj2AwsKCS9hLzkzY3dfeQooChVjb25zdHJ1Y3Rpb24gZW5naW5lZXLapYj2AwsKCS9tLzAxYnM5ZgocCgl0cmFkZXNtYW7apYj2AwsKCS9tLzAxanAzcAw&sxsrf=AOaemvJ99ecchWwnQ3SvgPRSG8R7UCXtng:1634970230316&q=workwear&tbm=isch&ved=2ahUKEwj1067e8t_zAhWbFIgKHT92BE8QjJkEegQIAhAC&biw=1604&bih=760&dpr=1.2')\n",
    "\n",
    "#print(keyword+' 스크롤 중 .............')\n",
    "elem =  driver.find_element_by_tag_name(\"body\")\n",
    "for i in range(80):\n",
    "    elem.send_keys(Keys.PAGE_DOWN)\n",
    "    time.sleep(0.2)\n",
    "    \n",
    "try:\n",
    "    driver.find_element_by_xpath('//*[@id=\"islmp\"]/div/div/div/div[1]/div[4]/div[2]/input').click()\n",
    "    for i in range(80):\n",
    "        elem.send_keys(Keys.PAGE_DOWN)\n",
    "        time.sleep(0.2)\n",
    "except:\n",
    "    pass\n",
    "\n",
    "links=[]\n",
    "images = driver.find_elements_by_css_selector(\"img.rg_i.Q4LuWd\")\n",
    "for image in images:\n",
    "    if image.get_attribute('src')!=None:\n",
    "        links.append(image.get_attribute('src'))\n",
    "\n",
    "print(' 찾은 이미지 개수:',len(links))\n",
    "time.sleep(2)\n",
    "\n",
    "p = 768\n",
    "for i in range(1,len(images)):\n",
    "    try:\n",
    "        driver.find_element_by_xpath('//*[@id=\"islrg\"]/div[1]/div['+str(i)+']/a[1]/div[1]/img').click() \n",
    "        time.sleep(0.2)\n",
    "        imgURL = driver.find_element_by_xpath('//*[@id=\"Sva75c\"]/div/div/div[3]/div[2]/c-wiz/div/div[1]/div[1]/div[2]/div/a/img').get_attribute(\"src\")# 찾은 이미지의 FullxPath를 복사 붙여넣어서 다운로드\n",
    "        urllib.request.urlretrieve(imgURL, 'C:/py_data/Mask Synthetic/_img4/'+str(p)+\".jpg\")\n",
    "        #print(keyword+' 사진 다운 중..... number :'+str(i)+'/'+str(len(images)))\n",
    "        p += 1\n",
    "    except: \n",
    "        continue\n",
    "        print(i,'error')\n",
    "driver.close()"
   ]
  },
  {
   "cell_type": "code",
   "execution_count": null,
   "id": "842a3f08",
   "metadata": {},
   "outputs": [],
   "source": []
  }
 ],
 "metadata": {
  "kernelspec": {
   "display_name": "Python 3 (ipykernel)",
   "language": "python",
   "name": "python3"
  },
  "language_info": {
   "codemirror_mode": {
    "name": "ipython",
    "version": 3
   },
   "file_extension": ".py",
   "mimetype": "text/x-python",
   "name": "python",
   "nbconvert_exporter": "python",
   "pygments_lexer": "ipython3",
   "version": "3.8.12"
  }
 },
 "nbformat": 4,
 "nbformat_minor": 5
}
