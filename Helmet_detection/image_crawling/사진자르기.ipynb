{
 "cells": [
  {
   "cell_type": "markdown",
   "id": "458f9bb7",
   "metadata": {},
   "source": [
    "# 사진 읽기"
   ]
  },
  {
   "cell_type": "code",
   "execution_count": 6,
   "id": "8c97b8ba",
   "metadata": {},
   "outputs": [],
   "source": [
    "img = cv2.imread(\"sample.jpg\")\n",
    "cv2.imshow(\"img\", img)\n",
    "cv2.waitKey()\n",
    "cv2.destroyAllWindows()"
   ]
  },
  {
   "cell_type": "markdown",
   "id": "0c018396",
   "metadata": {},
   "source": [
    "# 파일명 변경"
   ]
  },
  {
   "cell_type": "code",
   "execution_count": 23,
   "id": "f0c5fb21",
   "metadata": {},
   "outputs": [
    {
     "data": {
      "text/plain": [
       "7260"
      ]
     },
     "execution_count": 23,
     "metadata": {},
     "output_type": "execute_result"
    }
   ],
   "source": [
    "import os\n",
    "\n",
    "# 주어진 디렉토리에 있는 항목들의 이름을 담고 있는 리스트를 반환합니다.\n",
    "# 리스트는 임의의 순서대로 나열됩니다.\n",
    "file_path = 'C:\\py_data\\helmet_detection\\dataset\\helmet_orgin'\n",
    "file_names = os.listdir(file_path)\n",
    "len(file_names)"
   ]
  },
  {
   "cell_type": "code",
   "execution_count": 24,
   "id": "319af686",
   "metadata": {},
   "outputs": [],
   "source": [
    "i = 1\n",
    "for name in file_names:\n",
    "    src = os.path.join(file_path, name)\n",
    "    dst = str(i) + '.jpg'\n",
    "    dst = os.path.join(file_path, dst)\n",
    "    os.rename(src, dst)\n",
    "    i += 1"
   ]
  },
  {
   "cell_type": "markdown",
   "id": "96310afb",
   "metadata": {},
   "source": [
    "# 중복된 사진 제거"
   ]
  },
  {
   "cell_type": "code",
   "execution_count": 3,
   "id": "de5528e3",
   "metadata": {},
   "outputs": [],
   "source": [
    "photo_list = []\n",
    "\n",
    "for f in os.listdir('C:\\py_data\\helmet_detection\\dataset\\helmet_orgin'):\n",
    "    if 'jpg' or 'png' in f:\n",
    "        photo_list.append(f)"
   ]
  },
  {
   "cell_type": "code",
   "execution_count": 4,
   "id": "2aa75ce4",
   "metadata": {},
   "outputs": [],
   "source": [
    "photo_size = list(map(lambda x: os.path.getsize('C:\\py_data\\helmet_detection\\dataset\\helmet_orgin' + '/' + x), photo_list))"
   ]
  },
  {
   "cell_type": "code",
   "execution_count": 5,
   "id": "8271cd51",
   "metadata": {},
   "outputs": [
    {
     "name": "stdout",
     "output_type": "stream",
     "text": [
      "사진의 갯수 : 8177\n"
     ]
    }
   ],
   "source": [
    "import pandas as pd\n",
    "\n",
    "# Find Same Photos\n",
    "fsp = pd.DataFrame({'filename':photo_list, 'size':photo_size})\n",
    "\n",
    "print('사진의 갯수 :', len(fsp))"
   ]
  },
  {
   "cell_type": "code",
   "execution_count": 6,
   "id": "9d031ace",
   "metadata": {},
   "outputs": [
    {
     "data": {
      "text/html": [
       "<div>\n",
       "<style scoped>\n",
       "    .dataframe tbody tr th:only-of-type {\n",
       "        vertical-align: middle;\n",
       "    }\n",
       "\n",
       "    .dataframe tbody tr th {\n",
       "        vertical-align: top;\n",
       "    }\n",
       "\n",
       "    .dataframe thead th {\n",
       "        text-align: right;\n",
       "    }\n",
       "</style>\n",
       "<table border=\"1\" class=\"dataframe\">\n",
       "  <thead>\n",
       "    <tr style=\"text-align: right;\">\n",
       "      <th></th>\n",
       "      <th>filename</th>\n",
       "      <th>size</th>\n",
       "    </tr>\n",
       "  </thead>\n",
       "  <tbody>\n",
       "    <tr>\n",
       "      <th>0</th>\n",
       "      <td>helmet1.jpg</td>\n",
       "      <td>4520</td>\n",
       "    </tr>\n",
       "    <tr>\n",
       "      <th>1</th>\n",
       "      <td>helmet10.jpg</td>\n",
       "      <td>204986</td>\n",
       "    </tr>\n",
       "  </tbody>\n",
       "</table>\n",
       "</div>"
      ],
      "text/plain": [
       "       filename    size\n",
       "0   helmet1.jpg    4520\n",
       "1  helmet10.jpg  204986"
      ]
     },
     "execution_count": 6,
     "metadata": {},
     "output_type": "execute_result"
    }
   ],
   "source": [
    "fsp[:2]"
   ]
  },
  {
   "cell_type": "code",
   "execution_count": 7,
   "id": "2d3cd0a8",
   "metadata": {},
   "outputs": [
    {
     "data": {
      "text/html": [
       "<div>\n",
       "<style scoped>\n",
       "    .dataframe tbody tr th:only-of-type {\n",
       "        vertical-align: middle;\n",
       "    }\n",
       "\n",
       "    .dataframe tbody tr th {\n",
       "        vertical-align: top;\n",
       "    }\n",
       "\n",
       "    .dataframe thead th {\n",
       "        text-align: right;\n",
       "    }\n",
       "</style>\n",
       "<table border=\"1\" class=\"dataframe\">\n",
       "  <thead>\n",
       "    <tr style=\"text-align: right;\">\n",
       "      <th></th>\n",
       "      <th>filename</th>\n",
       "      <th>size</th>\n",
       "      <th>fn_counts</th>\n",
       "      <th>size_counts</th>\n",
       "    </tr>\n",
       "  </thead>\n",
       "  <tbody>\n",
       "    <tr>\n",
       "      <th>7960</th>\n",
       "      <td>helmet8163.jpg</td>\n",
       "      <td>320852</td>\n",
       "      <td>1</td>\n",
       "      <td>1</td>\n",
       "    </tr>\n",
       "    <tr>\n",
       "      <th>519</th>\n",
       "      <td>helmet1466.jpg</td>\n",
       "      <td>351279</td>\n",
       "      <td>1</td>\n",
       "      <td>1</td>\n",
       "    </tr>\n",
       "  </tbody>\n",
       "</table>\n",
       "</div>"
      ],
      "text/plain": [
       "            filename    size  fn_counts  size_counts\n",
       "7960  helmet8163.jpg  320852          1            1\n",
       "519   helmet1466.jpg  351279          1            1"
      ]
     },
     "execution_count": 7,
     "metadata": {},
     "output_type": "execute_result"
    }
   ],
   "source": [
    "# Photo Value Counts\n",
    "pvc = pd.DataFrame({'filename':fsp['filename'].value_counts().index, 'fn_counts':fsp['filename'].value_counts().values})   \n",
    "psvc = pd.DataFrame({'size':fsp['size'].value_counts().index, 'size_counts':fsp['size'].value_counts().values})   \n",
    "\n",
    "fsp = pd.merge(fsp, pvc, how = 'left', on = 'filename')\n",
    "fsp = pd.merge(fsp, psvc, how = 'left', on = 'size')\n",
    "\n",
    "fsp.sample(2)"
   ]
  },
  {
   "cell_type": "code",
   "execution_count": 8,
   "id": "f5f410ab",
   "metadata": {},
   "outputs": [],
   "source": [
    "for i in range(len(fsp)):\n",
    "    if (fsp['fn_counts'][i] > 1) & (fsp['size_counts'][i] == 1):\n",
    "        print(i)"
   ]
  },
  {
   "cell_type": "code",
   "execution_count": 9,
   "id": "aa70065d",
   "metadata": {},
   "outputs": [],
   "source": [
    "# Find Same Phto_Not Same Name\n",
    "fsp_nsn = fsp.sort_values(['filename'], ascending = False).drop_duplicates(['filename'], keep = 'first')"
   ]
  },
  {
   "cell_type": "code",
   "execution_count": 10,
   "id": "e39b6e5d",
   "metadata": {},
   "outputs": [
    {
     "name": "stdout",
     "output_type": "stream",
     "text": [
      "남은 사진의 갯수 : 8177\n",
      "지워진 사진의 갯수 : 0\n"
     ]
    }
   ],
   "source": [
    "print('남은 사진의 갯수 : {}\\n지워진 사진의 갯수 : {}'.format(len(fsp_nsn), len(fsp)-len(fsp_nsn)))"
   ]
  },
  {
   "cell_type": "code",
   "execution_count": 11,
   "id": "2307cb3f",
   "metadata": {},
   "outputs": [],
   "source": [
    "pvc_nsn = pd.DataFrame({'filename':fsp_nsn['filename'].value_counts().index, 'fn_counts_nsn':fsp_nsn['filename'].value_counts().values})   \n",
    "psvc_nsn = pd.DataFrame({'size':fsp_nsn['size'].value_counts().index, 'size_counts_nsn':fsp_nsn['size'].value_counts().values})   \n",
    "\n",
    "fsp_nsn = pd.merge(fsp_nsn, pvc_nsn, how = 'left', on = 'filename')\n",
    "fsp_nsn = pd.merge(fsp_nsn, psvc_nsn, how = 'left', on = 'size')"
   ]
  },
  {
   "cell_type": "code",
   "execution_count": 12,
   "id": "d0fb4844",
   "metadata": {
    "scrolled": true
   },
   "outputs": [
    {
     "data": {
      "text/html": [
       "<div>\n",
       "<style scoped>\n",
       "    .dataframe tbody tr th:only-of-type {\n",
       "        vertical-align: middle;\n",
       "    }\n",
       "\n",
       "    .dataframe tbody tr th {\n",
       "        vertical-align: top;\n",
       "    }\n",
       "\n",
       "    .dataframe thead th {\n",
       "        text-align: right;\n",
       "    }\n",
       "</style>\n",
       "<table border=\"1\" class=\"dataframe\">\n",
       "  <thead>\n",
       "    <tr style=\"text-align: right;\">\n",
       "      <th></th>\n",
       "      <th>filename</th>\n",
       "      <th>size</th>\n",
       "      <th>fn_counts</th>\n",
       "      <th>size_counts</th>\n",
       "      <th>fn_counts_nsn</th>\n",
       "      <th>size_counts_nsn</th>\n",
       "    </tr>\n",
       "  </thead>\n",
       "  <tbody>\n",
       "  </tbody>\n",
       "</table>\n",
       "</div>"
      ],
      "text/plain": [
       "Empty DataFrame\n",
       "Columns: [filename, size, fn_counts, size_counts, fn_counts_nsn, size_counts_nsn]\n",
       "Index: []"
      ]
     },
     "execution_count": 12,
     "metadata": {},
     "output_type": "execute_result"
    }
   ],
   "source": [
    "fsp_nsn[fsp_nsn['fn_counts_nsn']!=1]"
   ]
  },
  {
   "cell_type": "code",
   "execution_count": 13,
   "id": "eee9d9c2",
   "metadata": {},
   "outputs": [
    {
     "name": "stdout",
     "output_type": "stream",
     "text": [
      "사이즈 겹치는 사진의 갯수 : 3166\n",
      "중복 사이즈의 갯수 : 1281\n"
     ]
    }
   ],
   "source": [
    "print('사이즈 겹치는 사진의 갯수 :', len(fsp_nsn[fsp_nsn['size_counts_nsn']!=1]))\n",
    "print('중복 사이즈의 갯수 :', len(psvc_nsn[psvc_nsn['size_counts_nsn']>1]))"
   ]
  },
  {
   "cell_type": "code",
   "execution_count": 15,
   "id": "3363f6e4",
   "metadata": {},
   "outputs": [
    {
     "data": {
      "text/html": [
       "<div>\n",
       "<style scoped>\n",
       "    .dataframe tbody tr th:only-of-type {\n",
       "        vertical-align: middle;\n",
       "    }\n",
       "\n",
       "    .dataframe tbody tr th {\n",
       "        vertical-align: top;\n",
       "    }\n",
       "\n",
       "    .dataframe thead th {\n",
       "        text-align: right;\n",
       "    }\n",
       "</style>\n",
       "<table border=\"1\" class=\"dataframe\">\n",
       "  <thead>\n",
       "    <tr style=\"text-align: right;\">\n",
       "      <th></th>\n",
       "      <th>filename</th>\n",
       "      <th>size</th>\n",
       "      <th>fn_counts</th>\n",
       "      <th>size_counts</th>\n",
       "      <th>fn_counts_nsn</th>\n",
       "      <th>size_counts_nsn</th>\n",
       "    </tr>\n",
       "  </thead>\n",
       "  <tbody>\n",
       "    <tr>\n",
       "      <th>9</th>\n",
       "      <td>helmet990.jpg</td>\n",
       "      <td>8711</td>\n",
       "      <td>1</td>\n",
       "      <td>3</td>\n",
       "      <td>1</td>\n",
       "      <td>3</td>\n",
       "    </tr>\n",
       "    <tr>\n",
       "      <th>22</th>\n",
       "      <td>helmet979.jpg</td>\n",
       "      <td>8632</td>\n",
       "      <td>1</td>\n",
       "      <td>3</td>\n",
       "      <td>1</td>\n",
       "      <td>3</td>\n",
       "    </tr>\n",
       "    <tr>\n",
       "      <th>46</th>\n",
       "      <td>helmet957.jpg</td>\n",
       "      <td>7739</td>\n",
       "      <td>1</td>\n",
       "      <td>3</td>\n",
       "      <td>1</td>\n",
       "      <td>3</td>\n",
       "    </tr>\n",
       "    <tr>\n",
       "      <th>58</th>\n",
       "      <td>helmet946.jpg</td>\n",
       "      <td>17644</td>\n",
       "      <td>1</td>\n",
       "      <td>2</td>\n",
       "      <td>1</td>\n",
       "      <td>2</td>\n",
       "    </tr>\n",
       "    <tr>\n",
       "      <th>70</th>\n",
       "      <td>helmet935.jpg</td>\n",
       "      <td>33203</td>\n",
       "      <td>1</td>\n",
       "      <td>2</td>\n",
       "      <td>1</td>\n",
       "      <td>2</td>\n",
       "    </tr>\n",
       "    <tr>\n",
       "      <th>...</th>\n",
       "      <td>...</td>\n",
       "      <td>...</td>\n",
       "      <td>...</td>\n",
       "      <td>...</td>\n",
       "      <td>...</td>\n",
       "      <td>...</td>\n",
       "    </tr>\n",
       "    <tr>\n",
       "      <th>8147</th>\n",
       "      <td>helmet1024.jpg</td>\n",
       "      <td>7390</td>\n",
       "      <td>1</td>\n",
       "      <td>2</td>\n",
       "      <td>1</td>\n",
       "      <td>2</td>\n",
       "    </tr>\n",
       "    <tr>\n",
       "      <th>8152</th>\n",
       "      <td>helmet102.jpg</td>\n",
       "      <td>7978</td>\n",
       "      <td>1</td>\n",
       "      <td>2</td>\n",
       "      <td>1</td>\n",
       "      <td>2</td>\n",
       "    </tr>\n",
       "    <tr>\n",
       "      <th>8159</th>\n",
       "      <td>helmet1013.jpg</td>\n",
       "      <td>25217</td>\n",
       "      <td>1</td>\n",
       "      <td>2</td>\n",
       "      <td>1</td>\n",
       "      <td>2</td>\n",
       "    </tr>\n",
       "    <tr>\n",
       "      <th>8171</th>\n",
       "      <td>helmet1002.jpg</td>\n",
       "      <td>55803</td>\n",
       "      <td>1</td>\n",
       "      <td>2</td>\n",
       "      <td>1</td>\n",
       "      <td>2</td>\n",
       "    </tr>\n",
       "    <tr>\n",
       "      <th>8172</th>\n",
       "      <td>helmet1001.jpg</td>\n",
       "      <td>44291</td>\n",
       "      <td>1</td>\n",
       "      <td>2</td>\n",
       "      <td>1</td>\n",
       "      <td>2</td>\n",
       "    </tr>\n",
       "  </tbody>\n",
       "</table>\n",
       "<p>3166 rows × 6 columns</p>\n",
       "</div>"
      ],
      "text/plain": [
       "            filename   size  fn_counts  size_counts  fn_counts_nsn  \\\n",
       "9      helmet990.jpg   8711          1            3              1   \n",
       "22     helmet979.jpg   8632          1            3              1   \n",
       "46     helmet957.jpg   7739          1            3              1   \n",
       "58     helmet946.jpg  17644          1            2              1   \n",
       "70     helmet935.jpg  33203          1            2              1   \n",
       "...              ...    ...        ...          ...            ...   \n",
       "8147  helmet1024.jpg   7390          1            2              1   \n",
       "8152   helmet102.jpg   7978          1            2              1   \n",
       "8159  helmet1013.jpg  25217          1            2              1   \n",
       "8171  helmet1002.jpg  55803          1            2              1   \n",
       "8172  helmet1001.jpg  44291          1            2              1   \n",
       "\n",
       "      size_counts_nsn  \n",
       "9                   3  \n",
       "22                  3  \n",
       "46                  3  \n",
       "58                  2  \n",
       "70                  2  \n",
       "...               ...  \n",
       "8147                2  \n",
       "8152                2  \n",
       "8159                2  \n",
       "8171                2  \n",
       "8172                2  \n",
       "\n",
       "[3166 rows x 6 columns]"
      ]
     },
     "execution_count": 15,
     "metadata": {},
     "output_type": "execute_result"
    }
   ],
   "source": [
    "fsp_nsn[fsp_nsn['size_counts']!=1]"
   ]
  },
  {
   "cell_type": "code",
   "execution_count": 22,
   "id": "2c9e76fc",
   "metadata": {},
   "outputs": [
    {
     "data": {
      "text/html": [
       "<div>\n",
       "<style scoped>\n",
       "    .dataframe tbody tr th:only-of-type {\n",
       "        vertical-align: middle;\n",
       "    }\n",
       "\n",
       "    .dataframe tbody tr th {\n",
       "        vertical-align: top;\n",
       "    }\n",
       "\n",
       "    .dataframe thead th {\n",
       "        text-align: right;\n",
       "    }\n",
       "</style>\n",
       "<table border=\"1\" class=\"dataframe\">\n",
       "  <thead>\n",
       "    <tr style=\"text-align: right;\">\n",
       "      <th></th>\n",
       "      <th>size</th>\n",
       "      <th>size_counts_nsn</th>\n",
       "    </tr>\n",
       "  </thead>\n",
       "  <tbody>\n",
       "    <tr>\n",
       "      <th>0</th>\n",
       "      <td>7458</td>\n",
       "      <td>9</td>\n",
       "    </tr>\n",
       "    <tr>\n",
       "      <th>1</th>\n",
       "      <td>6751</td>\n",
       "      <td>8</td>\n",
       "    </tr>\n",
       "    <tr>\n",
       "      <th>2</th>\n",
       "      <td>6633</td>\n",
       "      <td>8</td>\n",
       "    </tr>\n",
       "    <tr>\n",
       "      <th>3</th>\n",
       "      <td>5499</td>\n",
       "      <td>8</td>\n",
       "    </tr>\n",
       "    <tr>\n",
       "      <th>4</th>\n",
       "      <td>6525</td>\n",
       "      <td>7</td>\n",
       "    </tr>\n",
       "    <tr>\n",
       "      <th>...</th>\n",
       "      <td>...</td>\n",
       "      <td>...</td>\n",
       "    </tr>\n",
       "    <tr>\n",
       "      <th>1276</th>\n",
       "      <td>7451</td>\n",
       "      <td>2</td>\n",
       "    </tr>\n",
       "    <tr>\n",
       "      <th>1277</th>\n",
       "      <td>7353</td>\n",
       "      <td>2</td>\n",
       "    </tr>\n",
       "    <tr>\n",
       "      <th>1278</th>\n",
       "      <td>93914</td>\n",
       "      <td>2</td>\n",
       "    </tr>\n",
       "    <tr>\n",
       "      <th>1279</th>\n",
       "      <td>57116</td>\n",
       "      <td>2</td>\n",
       "    </tr>\n",
       "    <tr>\n",
       "      <th>1280</th>\n",
       "      <td>7640</td>\n",
       "      <td>2</td>\n",
       "    </tr>\n",
       "  </tbody>\n",
       "</table>\n",
       "<p>1281 rows × 2 columns</p>\n",
       "</div>"
      ],
      "text/plain": [
       "       size  size_counts_nsn\n",
       "0      7458                9\n",
       "1      6751                8\n",
       "2      6633                8\n",
       "3      5499                8\n",
       "4      6525                7\n",
       "...     ...              ...\n",
       "1276   7451                2\n",
       "1277   7353                2\n",
       "1278  93914                2\n",
       "1279  57116                2\n",
       "1280   7640                2\n",
       "\n",
       "[1281 rows x 2 columns]"
      ]
     },
     "execution_count": 22,
     "metadata": {},
     "output_type": "execute_result"
    }
   ],
   "source": [
    "psvc_nsn[psvc_nsn['size_counts_nsn'] >= 2]"
   ]
  },
  {
   "cell_type": "code",
   "execution_count": 16,
   "id": "c4e3a7b4",
   "metadata": {},
   "outputs": [
    {
     "name": "stdout",
     "output_type": "stream",
     "text": [
      "2\n"
     ]
    }
   ],
   "source": [
    "import cv2   # OpenCV\n",
    "#from skimage.measure import compare_ssim\n",
    "from skimage.metrics import structural_similarity as compare_ssim\n",
    "\n",
    "# 삭제될 사진의 리스트\n",
    "delete = []\n",
    "\n",
    "try:\n",
    "    for i in range(len(psvc_nsn)):\n",
    "\n",
    "        # 중복된 크기(size)가 있는 경우\n",
    "        if psvc_nsn['size_counts_nsn'][i] >= 2:\n",
    "\n",
    "            # 그 크기에 해당하는 사진을 불러온다. \n",
    "            temp = fsp_nsn[fsp_nsn['size']==psvc_nsn['size'][i]].reset_index(drop = True).sort_values(['filename'])\n",
    "\n",
    "            # 사진 읽기\n",
    "            imageA = cv2.imread('C:\\py_data\\helmet_detection\\dataset\\helmet_orgin/'+temp['filename'][0])\n",
    "            imageB = cv2.imread('C:\\py_data\\helmet_detection\\dataset\\helmet_orgin/'+temp['filename'][1])\n",
    "\n",
    "            # 이미지를 grayscale로 변환\n",
    "            grayA = cv2.cvtColor(imageA, cv2.COLOR_BGR2GRAY)\n",
    "            grayB = cv2.cvtColor(imageB, cv2.COLOR_BGR2GRAY)\n",
    "\n",
    "            # 이미지의 구조가 같다면 이미지 비교\n",
    "            if len(grayA)==len(grayB):\n",
    "                (score, diff) = compare_ssim(grayA, grayB, full=True)\n",
    "\n",
    "                # 차이가 없다면 하나는 delete에 넣어주기\n",
    "                if score == 1:\n",
    "                    delete.append(temp['filename_raw'][1])\n",
    "\n",
    "                # 구조가 같지만 차이가 존재한다면 직접 확인하기     \n",
    "                else:\n",
    "                    print('확인해보시오! : ', temp['filename_raw'][0], '/', temp['filename_raw'][1], f'(score : {score})')\n",
    "except:\n",
    "    print(i)\n",
    "    pass"
   ]
  },
  {
   "cell_type": "code",
   "execution_count": 18,
   "id": "f23df580",
   "metadata": {},
   "outputs": [
    {
     "name": "stdout",
     "output_type": "stream",
     "text": [
      "삭제할 목록 : 0\n"
     ]
    }
   ],
   "source": [
    "# 중복제거된 것들은 delete 리스트에 넣어주기\n",
    "delete = delete + list(fsp[~fsp['filename'].isin(fsp_nsn['filename'])]['filename'])\n",
    "\n",
    "print('삭제할 목록 :', len(delete))"
   ]
  },
  {
   "cell_type": "code",
   "execution_count": 20,
   "id": "84c1d047",
   "metadata": {},
   "outputs": [
    {
     "name": "stdout",
     "output_type": "stream",
     "text": [
      "남길 목록 :  8177\n"
     ]
    }
   ],
   "source": [
    "# result : 처음(fsp)데이터에서 - delete를 제외한 것\n",
    "result = list(fsp[~fsp['filename'].isin(delete)]['filename'])\n",
    "\n",
    "print('남길 목록 : ', len(result))"
   ]
  },
  {
   "cell_type": "code",
   "execution_count": null,
   "id": "5927c216",
   "metadata": {},
   "outputs": [],
   "source": [
    "import shutil\n",
    "\n",
    "for i in result:\n",
    "    shutil.move('Photo/'+i, '/Users/mizy/Desktop/mizy/Image/Result')\n",
    "    \n",
    "for i in delete:\n",
    "    shutil.move('Photo/'+i, '/Users/mizy/Desktop/mizy/Image/Delete')    "
   ]
  },
  {
   "cell_type": "markdown",
   "id": "2753d4ed",
   "metadata": {},
   "source": [
    "# 사진 자르기"
   ]
  },
  {
   "cell_type": "code",
   "execution_count": 25,
   "id": "9c027fd6",
   "metadata": {},
   "outputs": [],
   "source": [
    "import cv2\n",
    "import cvlib as cv"
   ]
  },
  {
   "cell_type": "code",
   "execution_count": 27,
   "id": "53be1b20",
   "metadata": {
    "scrolled": true
   },
   "outputs": [],
   "source": [
    "p = 1\n",
    "for i in range(1,7261):    \n",
    "    try:\n",
    "        img = cv2.imread(\"C:/py_data/helmet_detection/dataset/helmet_orgin/\"+str(i)+\".jpg\")\n",
    "        h, w, c = img.shape\n",
    "        if(c != 3):\n",
    "            pass\n",
    "        gray = cv2.cvtColor(img, cv2.COLOR_BGR2GRAY)\n",
    "        faces, confidences = cv.detect_face(img)\n",
    "\n",
    "\n",
    "        for (x, y, x2, y2), conf in zip(faces, confidences):\n",
    "            if len(faces)==0 :\n",
    "                pass\n",
    "            else:\n",
    "                #비율\n",
    "                width = x2 - x\n",
    "                height = y2 - y\n",
    "\n",
    "                #변수지정\n",
    "                cropX = int(x-(width*0.3))\n",
    "                cropY = int(y-(height*0.6))\n",
    "                cropX2 = int(x2+(width*0.3))\n",
    "                cropY2 = int(y2+(height*0.2))\n",
    "\n",
    "\n",
    "                #이미지영역 내부 인지\n",
    "                if ((cropX > 0 and cropX < w) and (cropY > 0 and cropY < h) and (cropX2 > 0 and cropX2 < w) and (cropY2 > 0 and cropY2 < h)):\n",
    "                    cropped = img[cropY:cropY2, cropX:cropX2]\n",
    "                    if cropX2 - cropX >= 80 :\n",
    "                        cv2.imwrite(\"C:/py_data/helmet_detection/dataset/helmet_crop/crop_\"+str(i)+\"_\"+str(p)+\".jpg\", cropped)\n",
    "                else :\n",
    "                    pass\n",
    "\n",
    "            p+=1\n",
    "      \n",
    "    except:\n",
    "            pass"
   ]
  },
  {
   "cell_type": "code",
   "execution_count": null,
   "id": "3f527739",
   "metadata": {},
   "outputs": [],
   "source": []
  },
  {
   "cell_type": "markdown",
   "id": "709beda3",
   "metadata": {},
   "source": []
  }
 ],
 "metadata": {
  "kernelspec": {
   "display_name": "Python 3 (ipykernel)",
   "language": "python",
   "name": "python3"
  },
  "language_info": {
   "codemirror_mode": {
    "name": "ipython",
    "version": 3
   },
   "file_extension": ".py",
   "mimetype": "text/x-python",
   "name": "python",
   "nbconvert_exporter": "python",
   "pygments_lexer": "ipython3",
   "version": "3.8.12"
  }
 },
 "nbformat": 4,
 "nbformat_minor": 5
}
